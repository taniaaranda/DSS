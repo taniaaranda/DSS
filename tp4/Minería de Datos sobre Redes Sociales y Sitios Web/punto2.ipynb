{
 "cells": [
  {
   "cell_type": "code",
   "execution_count": null,
   "metadata": {},
   "outputs": [],
   "source": [
    "from bs4 import BeautifulSoup\n",
    "import requests\n",
    "import json\n",
    "import re\n"
   ]
  },
  {
   "cell_type": "code",
   "execution_count": null,
   "metadata": {},
   "outputs": [],
   "source": [
    "secciones = [\"https://www.diariojornada.com.ar/provincia/\",\n",
    "            \"https://www.diariojornada.com.ar/policiales/\",\n",
    "            \"https://www.diariojornada.com.ar/sociedad/\",\n",
    "            \"https://www.diariojornada.com.ar/deportes/\", \n",
    "            \"https://www.diariojornada.com.ar/paismundo/\",\n",
    "            \"https://www.diariojornada.com.ar/economia/\",\n",
    "            \"https://www.diariojornada.com.ar/espectaculos/\",\n",
    "            \"https://www.diariojornada.com.ar/ciencia/\"] \n",
    "\n",
    "data = []\n",
    "\n",
    "for seccion in secciones:\n",
    "    \n",
    "    # Realizamos la petición a la web\n",
    "    req = requests.get(seccion)\n",
    "\n",
    "    # Comprobamos que la petición nos devuelve un Status Code = 200\n",
    "    status_code = req.status_code\n",
    "    if status_code == 200:\n",
    "         # Pasamos el contenido HTML de la web a un objeto BeautifulSoup()\n",
    "        soup = BeautifulSoup(req.text, \"html.parser\")\n",
    "\n",
    "        # Obtenemos todos los enlaces donde están las noticias\n",
    "        enlaces = soup.find_all('a')\n",
    "        patron = re.compile(r'/\\d')\n",
    "        for e in enlaces:\n",
    "            link = e.get('href')\n",
    "            m = patron.search(link)\n",
    "            if m != None:\n",
    "                # Realizamos la petición al enlace de la noticia\n",
    "                req = requests.get(link)\n",
    "                # Comprobamos que la petición nos devuelve un Status Code = 200\n",
    "                status_code = req.status_code\n",
    "                if status_code == 200:\n",
    "                    soup = BeautifulSoup(req.text, \"html.parser\")\n",
    "                    seccion = soup.find('a').get_text()\n",
    "                    titulo = soup.find('span', id = 'ContentPlaceHolder1_lbl_Titulo').get_text()\n",
    "                    elementos_cuerpo = soup.find('div',id = 'cuerpo')\n",
    "                    vistas = elementos_cuerpo.find('span').get_text()\n",
    "                    cuerpo = elementos_cuerpo.find('p').get_text()\n",
    "                    data.append({'seccion':seccion, 'titulo':titulo, 'vistas':vistas,'cuerpo':cuerpo})\n",
    "    else:\n",
    "        print (\"Status Code %d\" % status_code)\n",
    "\n",
    "with open('noticias.json', 'w') as file:\n",
    "    json.dump(data, file, indent=4)\n",
    "\n",
    "print(\"paso\")"
   ]
  },
  {
   "cell_type": "code",
   "execution_count": 8,
   "metadata": {},
   "outputs": [
    {
     "name": "stdout",
     "output_type": "stream",
     "text": [
      "seccion  POLICIALES \n",
      " titulo  Murió un hombre tras un vuelco entre Gaiman y Trelew \n",
      " vistas 11525 \n",
      "\n",
      "seccion  SOCIEDAD \n",
      " titulo  Trelew: el nuevo hogar de la familia Pérez \n",
      " vistas 4965 \n",
      "\n",
      "seccion  POLICIALES \n",
      " titulo  Impactante: difunden el video del momento de la explosión que mató a Lucía \n",
      " vistas 4883 \n",
      "\n",
      "seccion  POLICIALES \n",
      " titulo  Aberrante: mientras una nena de 11 años era abusada, su mamá le sacaba fotos y la filmaba \n",
      " vistas 4739 \n",
      "\n",
      "seccion  PROVINCIA \n",
      " titulo  El Gobierno nacional dispuso que Comodoro y Madryn vuelvan a fase 1 \n",
      " vistas 4408 \n",
      "\n"
     ]
    }
   ],
   "source": [
    "## a. Mostrar cuáles son las 5 noticias más relevantes según cantidad de visitas a nivel global\n",
    "\n",
    "with open('noticias.json') as file:\n",
    "    data = json.load (file)\n",
    "    for noticia in data:\n",
    "        removed = noticia['vistas'].replace('.', '')\n",
    "        noticia['vistas'] = removed\n",
    "    \n",
    "    relevantes = sorted(data,key=lambda k: int(k['vistas']),reverse=True)\n",
    "    for i in range(5):\n",
    "        print(\"seccion \",relevantes[i]['seccion'], \"\\n\",\n",
    "              \"titulo \",relevantes[i]['titulo'],\"\\n\",\n",
    "              \"vistas\",relevantes[i]['vistas'],\"\\n\")\n"
   ]
  },
  {
   "cell_type": "code",
   "execution_count": 9,
   "metadata": {},
   "outputs": [
    {
     "name": "stdout",
     "output_type": "stream",
     "text": [
      "seccion  PROVINCIA \n",
      " titulo  El Gobierno nacional dispuso que Comodoro y Madryn vuelvan a fase 1 \n",
      " vistas 4408 \n",
      "\n",
      "seccion  PROVINCIA \n",
      " titulo  Chubut reportó otros 285 casos de Covid y ya suman 291 los trabajadores de la Salud que se contagiaron \n",
      " vistas 3221 \n",
      "\n",
      "seccion  PROVINCIA \n",
      " titulo  De Boca en Boca y #DesdeElTwitter \n",
      " vistas 2449 \n",
      "\n",
      "seccion  PROVINCIA \n",
      " titulo  Hoy redoblarán los controles por el Covid-19 \n",
      " vistas 2328 \n",
      "\n",
      "seccion  PROVINCIA \n",
      " titulo  Anticipan que el turismo interno regresaría  con tres corredores y con 18 protocolos \n",
      " vistas 1900 \n",
      "\n"
     ]
    }
   ],
   "source": [
    "## a. Mostrar cuáles son las 5 noticias más relevantes segun cantidad de visitas por seccion Provincia\n",
    "\n",
    "with open('noticias.json') as file:\n",
    "    data = json.load (file)\n",
    "    provincia = []\n",
    "    for noticia in data:\n",
    "        if noticia['seccion'] == 'PROVINCIA':\n",
    "            removed = noticia['vistas'].replace('.', '')\n",
    "            noticia['vistas'] = removed\n",
    "            provincia.append(noticia)\n",
    "    \n",
    "    relevantes = sorted(provincia ,key=lambda k: int(k['vistas']),reverse=True)\n",
    "    \n",
    "    for i in range(5):\n",
    "        print(\"seccion \",relevantes[i]['seccion'], \"\\n\",\n",
    "              \"titulo \",relevantes[i]['titulo'],\"\\n\",\n",
    "              \"vistas\",relevantes[i]['vistas'],\"\\n\")"
   ]
  },
  {
   "cell_type": "code",
   "execution_count": 10,
   "metadata": {},
   "outputs": [
    {
     "name": "stdout",
     "output_type": "stream",
     "text": [
      "seccion  POLICIALES \n",
      " titulo  Murió un hombre tras un vuelco entre Gaiman y Trelew \n",
      " vistas 11525 \n",
      "\n",
      "seccion  POLICIALES \n",
      " titulo  Impactante: difunden el video del momento de la explosión que mató a Lucía \n",
      " vistas 4883 \n",
      "\n",
      "seccion  POLICIALES \n",
      " titulo  Aberrante: mientras una nena de 11 años era abusada, su mamá le sacaba fotos y la filmaba \n",
      " vistas 4739 \n",
      "\n",
      "seccion  POLICIALES \n",
      " titulo  Paso del Sapo: empleados de la comuna, docentes y un peón rural demorados en una fiesta \n",
      " vistas 3258 \n",
      "\n",
      "seccion  POLICIALES \n",
      " titulo  Asaltaron al \"Roña\" Castro: \"Fue al voleo, me apuntaron con dos fierros\" \n",
      " vistas 3018 \n",
      "\n"
     ]
    }
   ],
   "source": [
    "## a. Mostrar cuáles son las 5 noticias más relevantes segun cantidad de visitas por seccion Policiales\n",
    "\n",
    "with open('noticias.json') as file:\n",
    "    data = json.load (file)\n",
    "    policiales = []\n",
    "    for noticia in data:\n",
    "        if noticia['seccion'] == 'POLICIALES':\n",
    "            removed = noticia['vistas'].replace('.', '')\n",
    "            noticia['vistas'] = removed\n",
    "            policiales.append(noticia)\n",
    "    \n",
    "    relevantes = sorted(policiales ,key=lambda k: int(k['vistas']),reverse=True)\n",
    "    \n",
    "    for i in range(5):\n",
    "        print(\"seccion \",relevantes[i]['seccion'], \"\\n\",\n",
    "              \"titulo \",relevantes[i]['titulo'],\"\\n\",\n",
    "              \"vistas\",relevantes[i]['vistas'],\"\\n\")"
   ]
  },
  {
   "cell_type": "code",
   "execution_count": 11,
   "metadata": {},
   "outputs": [
    {
     "name": "stdout",
     "output_type": "stream",
     "text": [
      "seccion  SOCIEDAD \n",
      " titulo  Trelew: el nuevo hogar de la familia Pérez \n",
      " vistas 4965 \n",
      "\n",
      "seccion  SOCIEDAD \n",
      " titulo  Insólito: lo picaron mosquitos en el pie y ahora parece una pata de elefante \n",
      " vistas 1812 \n",
      "\n",
      "seccion  SOCIEDAD \n",
      " titulo  Asensio Brunel, el matrero patagónico  que sólo comía lenguas de yegua \n",
      " vistas 1180 \n",
      "\n",
      "seccion  SOCIEDAD \n",
      " titulo  Advierten que la mayoría de los incendios son iniciados por humanos  \n",
      " vistas 1015 \n",
      "\n",
      "seccion  SOCIEDAD \n",
      " titulo  Delta se degrada a tormenta tropical en su paso por el estado de Luisiana \n",
      " vistas 701 \n",
      "\n"
     ]
    }
   ],
   "source": [
    "## a. Mostrar cuáles son las 5 noticias más relevantes segun cantidad de visitas por seccion Sociedad\n",
    "\n",
    "with open('noticias.json') as file:\n",
    "    data = json.load (file)\n",
    "    sociedad = []\n",
    "    for noticia in data:\n",
    "        if noticia['seccion'] == 'SOCIEDAD':\n",
    "            removed = noticia['vistas'].replace('.', '')\n",
    "            noticia['vistas'] = removed\n",
    "            sociedad.append(noticia)\n",
    "    \n",
    "    relevantes = sorted(sociedad ,key=lambda k: int(k['vistas']),reverse=True)\n",
    "    \n",
    "    for i in range(5):\n",
    "        print(\"seccion \",relevantes[i]['seccion'], \"\\n\",\n",
    "              \"titulo \",relevantes[i]['titulo'],\"\\n\",\n",
    "              \"vistas\",relevantes[i]['vistas'],\"\\n\")"
   ]
  },
  {
   "cell_type": "code",
   "execution_count": 13,
   "metadata": {},
   "outputs": [
    {
     "name": "stdout",
     "output_type": "stream",
     "text": [
      "seccion  DEPORTES \n",
      " titulo  Giro de Italia: Sepúlveda, protagonista de la novena etapa \n",
      " vistas 926 \n",
      "\n",
      "seccion  DEPORTES \n",
      " titulo  Batallini: \"Tampoco lo iba a llamar yo a Riquelme...\" \n",
      " vistas 685 \n",
      "\n",
      "seccion  DEPORTES \n",
      " titulo  Argentina subió a La Paz dos días antes de enfrentar a Bolivia \n",
      " vistas 525 \n",
      "\n",
      "seccion  DEPORTES \n",
      " titulo  TRV6: Rubens Barrichello ganó en el Gálvez y Lucas Valle fue 5to \n",
      " vistas 372 \n",
      "\n",
      "seccion  DEPORTES \n",
      " titulo  Nadal sigue siendo el \"rey\": arrasó a Djokovic y ganó por 13º vez Roland Garros \n",
      " vistas 362 \n",
      "\n"
     ]
    }
   ],
   "source": [
    "## a. Mostrar cuáles son las 5 noticias más relevantes segun cantidad de visitas por seccion Deportes\n",
    "\n",
    "with open('noticias.json') as file:\n",
    "    data = json.load (file)\n",
    "    deportes = []\n",
    "    for noticia in data:\n",
    "        if noticia['seccion'] == 'DEPORTES':\n",
    "            removed = noticia['vistas'].replace('.', '')\n",
    "            noticia['vistas'] = removed\n",
    "            deportes.append(noticia)\n",
    "    for i in range(5):\n",
    "        print(\"seccion \",relevantes[i]['seccion'], \"\\n\",\n",
    "              \"titulo \",relevantes[i]['titulo'],\"\\n\",\n",
    "              \"vistas\",relevantes[i]['vistas'],\"\\n\")\n",
    "    relevantes = sorted(deportes ,key=lambda k: int(k['vistas']),reverse=True)\n",
    "    "
   ]
  },
  {
   "cell_type": "code",
   "execution_count": 14,
   "metadata": {},
   "outputs": [
    {
     "name": "stdout",
     "output_type": "stream",
     "text": [
      "seccion  PAÍS & MUNDO \n",
      " titulo  El PJ prepara multitudinario acto virtual este 17 de Octubre, en respaldo al Presidente \n",
      " vistas 479 \n",
      "\n",
      "seccion  PAÍS & MUNDO \n",
      " titulo  El gobierno de Río Negro anunció que incrementará la masa salarial \n",
      " vistas 452 \n",
      "\n",
      "seccion  PAÍS & MUNDO \n",
      " titulo  El mundo vuelve a superar el récord de nuevos contagios de Covid: 378.000 \n",
      " vistas 445 \n",
      "\n",
      "seccion  PAÍS & MUNDO \n",
      " titulo  Los gobernadores exhortan a la unidad para enfrentar a la pandemia \n",
      " vistas 405 \n",
      "\n",
      "seccion  PAÍS & MUNDO \n",
      " titulo  Cafiero: un sector de la oposición \"quiere dañar\" la gestión del Presidente \n",
      " vistas 382 \n",
      "\n"
     ]
    }
   ],
   "source": [
    "## a. Mostrar cuáles son las 5 noticias más relevantes segun cantidad de visitas por seccion Pais y Mundo\n",
    "    \n",
    "with open('noticias.json') as file:\n",
    "    data = json.load (file)\n",
    "    pais_mundo = []\n",
    "    for noticia in data:\n",
    "        if noticia['seccion'] == 'PA\\u00cdS & MUNDO':\n",
    "            removed = noticia['vistas'].replace('.', '')\n",
    "            noticia['vistas'] = removed\n",
    "            pais_mundo.append(noticia)\n",
    "    \n",
    "    relevantes = sorted(pais_mundo ,key=lambda k: int(k['vistas']),reverse=True)\n",
    "    \n",
    "    for i in range(5):\n",
    "        print(\"seccion \",relevantes[i]['seccion'], \"\\n\",\n",
    "              \"titulo \",relevantes[i]['titulo'],\"\\n\",\n",
    "              \"vistas\",relevantes[i]['vistas'],\"\\n\")"
   ]
  },
  {
   "cell_type": "code",
   "execution_count": 15,
   "metadata": {},
   "outputs": [
    {
     "name": "stdout",
     "output_type": "stream",
     "text": [
      "seccion  ECONOMÍA \n",
      " titulo  Pospandemia, el agro y la oportunidad para exportar una lana sustentable desde Chubut \n",
      " vistas 4301 \n",
      "\n",
      "seccion  ECONOMÍA \n",
      " titulo  Google destinará u$s 1.000 millones para pagar contenidos informativos en medios \n",
      " vistas 1612 \n",
      "\n",
      "seccion  ECONOMÍA \n",
      " titulo  En Chubut se va menos al súper pero se compra más \n",
      " vistas 1110 \n",
      "\n",
      "seccion  ECONOMÍA \n",
      " titulo  Cuánto cuestan los equipos adquiridos para el narcotest y el valor en dólares de cada prueba \n",
      " vistas 644 \n",
      "\n",
      "seccion  ECONOMÍA \n",
      " titulo  Avanza la entrega de 11 mil viviendas pendientes del plan Procrear \n",
      " vistas 596 \n",
      "\n"
     ]
    }
   ],
   "source": [
    "## a. Mostrar cuáles son las 5 noticias más relevantes segun cantidad de visitas por seccion Economia\n",
    "\n",
    "with open('noticias.json') as file:\n",
    "    data = json.load (file)\n",
    "    economia = []\n",
    "    for noticia in data:\n",
    "        if noticia['seccion'] == 'ECONOM\\u00cdA':\n",
    "            removed = noticia['vistas'].replace('.', '')\n",
    "            noticia['vistas'] = removed\n",
    "            economia.append(noticia)\n",
    "    \n",
    "    relevantes = sorted(economia ,key=lambda k: int(k['vistas']),reverse=True)\n",
    "    \n",
    "    for i in range(5):\n",
    "        print(\"seccion \",relevantes[i]['seccion'], \"\\n\",\n",
    "              \"titulo \",relevantes[i]['titulo'],\"\\n\",\n",
    "              \"vistas\",relevantes[i]['vistas'],\"\\n\")"
   ]
  },
  {
   "cell_type": "code",
   "execution_count": 16,
   "metadata": {},
   "outputs": [
    {
     "name": "stdout",
     "output_type": "stream",
     "text": [
      "seccion  ESPECTÁCULOS \n",
      " titulo  En Alemania ya tienen la primera \"academia de heavy metal\" \n",
      " vistas 1357 \n",
      "\n",
      "seccion  ESPECTÁCULOS \n",
      " titulo  El esperado nuevo disco muestra a un AC/DC en estado puro \n",
      " vistas 974 \n",
      "\n",
      "seccion  ESPECTÁCULOS \n",
      " titulo  Cierran salas de cine en Reino Unido por la falta de público y retrasos en los estrenos \n",
      " vistas 806 \n",
      "\n",
      "seccion  ESPECTÁCULOS \n",
      " titulo  Murió Hugo Arana, un actor de raza que cautivó con su estilo popular \n",
      " vistas 585 \n",
      "\n",
      "seccion  ESPECTÁCULOS \n",
      " titulo  Los Abuelos de la Nada lanza versión de un clásico con Ricardo Mollo \n",
      " vistas 526 \n",
      "\n"
     ]
    }
   ],
   "source": [
    "## a. Mostrar cuáles son las 5 noticias más relevantes segun cantidad de visitas por seccion Espectaculos\n",
    "\n",
    "with open('noticias.json') as file:\n",
    "    data = json.load (file)\n",
    "    espectaculos = []\n",
    "    for noticia in data:\n",
    "        if noticia['seccion'] == 'ESPECT\\u00c1CULOS':\n",
    "            removed = noticia['vistas'].replace('.', '')\n",
    "            noticia['vistas'] = removed\n",
    "            espectaculos.append(noticia)\n",
    "    \n",
    "    relevantes = sorted(espectaculos ,key=lambda k: int(k['vistas']),reverse=True)\n",
    "    \n",
    "    for i in range(5):\n",
    "        print(\"seccion \",relevantes[i]['seccion'], \"\\n\",\n",
    "              \"titulo \",relevantes[i]['titulo'],\"\\n\",\n",
    "              \"vistas\",relevantes[i]['vistas'],\"\\n\")"
   ]
  },
  {
   "cell_type": "code",
   "execution_count": 17,
   "metadata": {},
   "outputs": [
    {
     "name": "stdout",
     "output_type": "stream",
     "text": [
      "seccion  CIENCIA \n",
      " titulo  El 40% de los vegetales están en peligro de extinción; alimentos en riesgo \n",
      " vistas 2245 \n",
      "\n",
      "seccion  CIENCIA \n",
      " titulo  Detectaron 24 planetas con condiciones de habitabilidad mejores que la Tierra \n",
      " vistas 1359 \n",
      "\n",
      "seccion  CIENCIA \n",
      " titulo  Descubren un agujero negro supermasivo de tiempos remotos del Universo \n",
      " vistas 1335 \n",
      "\n",
      "seccion  CIENCIA \n",
      " titulo  Entregaron 9.000 \"superbarbijos\" con tela antiviral elaborados por el Conicet \n",
      " vistas 1080 \n",
      "\n",
      "seccion  CIENCIA \n",
      " titulo  Covid-19: el ministro de Ciencia es optimista con la ivermectina y el suero equino \n",
      " vistas 1006 \n",
      "\n"
     ]
    }
   ],
   "source": [
    "## a. Mostrar cuáles son las 5 noticias más relevantes segun cantidad de visitas por seccion Ciencia\n",
    "\n",
    "with open('noticias.json') as file:\n",
    "    data = json.load (file)\n",
    "    ciencia = []\n",
    "    for noticia in data:\n",
    "        if noticia['seccion'] == 'CIENCIA':\n",
    "            removed = noticia['vistas'].replace('.', '')\n",
    "            noticia['vistas'] = removed\n",
    "            ciencia.append(noticia)\n",
    "    \n",
    "    relevantes = sorted(ciencia ,key=lambda k: int(k['vistas']),reverse=True)\n",
    "    \n",
    "    for i in range(5):\n",
    "        print(\"seccion \",relevantes[i]['seccion'], \"\\n\",\n",
    "              \"titulo \",relevantes[i]['titulo'],\"\\n\",\n",
    "              \"vistas\",relevantes[i]['vistas'],\"\\n\")"
   ]
  },
  {
   "cell_type": "code",
   "execution_count": 18,
   "metadata": {},
   "outputs": [
    {
     "name": "stderr",
     "output_type": "stream",
     "text": [
      "/home/tania/.local/lib/python3.8/site-packages/seaborn/distributions.py:2551: FutureWarning: `distplot` is a deprecated function and will be removed in a future version. Please adapt your code to use either `displot` (a figure-level function with similar flexibility) or `histplot` (an axes-level function for histograms).\n",
      "  warnings.warn(msg, FutureWarning)\n"
     ]
    },
    {
     "data": {
      "image/png": "[encoded data removed]",
      "text/plain": [
       "<Figure size 432x288 with 1 Axes>"
      ]
     },
     "metadata": {},
     "output_type": "display_data"
    }
   ],
   "source": [
    "## b) Mostrar cómo están distribuidas las palabras de cierto artı́culo\n",
    "import seaborn as sns\n",
    "import matplotlib.pyplot as plt\n",
    "\n",
    "palabras_omitir = ['ya','el', 'la','lo', 'los', 'las', 'un', 'una', 'unos', 'unas','a', 'ante',\n",
    "                  'bajo','cabe','como','con','contra','de','desde','durante','en','entre','excepto',\n",
    "                  'hacia','hace','hasta','mediante','para','por','segun','sin','sobre','tras',\n",
    "                  'del','que','se','muchos','muchas','mucho','mucha','hace','y','o','e','Mucho',\n",
    "                  'han','ha','he','Y','al','ello','conlleva','todos','todo','todas','toda','es',\n",
    "                   'sea','Muchas','algunas','algunos','pero','no','si','pocas','“Una','da','-y','más','siguen',\n",
    "                   'parte','esta','Pero','otra','otro','–casi','ninguna-','siendo','Este','también',\n",
    "                  'sino','sido','sigue','siendo-','aún','mayor','habría','Las','vez','menos','gran',\n",
    "                  'cuales','ser','Por','ni','En','últimas','basado','Se','como:-','su','además','sólo',\n",
    "                  'sus','misma','antes','esta.','deben','misma']\n",
    "with open('noticias.json') as file:\n",
    "    data = json.load (file)\n",
    "    lista_palabras_sin_omitir = data[0]['cuerpo'].split()\n",
    "    lista_palabras = []\n",
    "    for w in lista_palabras_sin_omitir:\n",
    "        if w not in palabras_omitir:\n",
    "            lista_palabras.append(w)\n",
    "\n",
    "    frecuencia_palabras = {}\n",
    "    frecuencia = []\n",
    "    for w in lista_palabras:\n",
    "        if w not in frecuencia_palabras:\n",
    "            cant = lista_palabras.count(w)\n",
    "            frecuencia_palabras[w] = cant\n",
    "            frecuencia.append(cant)\n",
    "    sns.set()\n",
    "    sns.distplot(frecuencia,color=\"violet\")\n",
    "    plt.show()"
   ]
  },
  {
   "cell_type": "code",
   "execution_count": 19,
   "metadata": {},
   "outputs": [
    {
     "name": "stdout",
     "output_type": "stream",
     "text": [
      "PROMEDIO DE PALABRAS  467.6923076923077\n",
      "MÁXIMO DE PALABRAS  990\n",
      "MÍNIMO DE PALABRAS  147\n",
      "PROMEDIO DE SENTENCIAS  16.692307692307693\n",
      "MÁXIMO DE SENTENCIAS  36\n",
      "MÍNIMO DE SENTENCIAS  4\n",
      "PROMEDIO DE PÁRRAFOS  15.692307692307692\n",
      "MÁXIMO DE PÁRRAFOS  35\n",
      "MÍNIMO DE PÁRRAFOS  3\n"
     ]
    }
   ],
   "source": [
    "## c) Mostrar el número promedio, máximo y mı́nimo de palabras, sentencias, párrafos de un conjunto de noticias de su preferencia. \n",
    "import numpy as np\n",
    "import statistics as stats\n",
    "\n",
    "with open('noticias.json') as file:\n",
    "    data = json.load (file)\n",
    "    palabras = []\n",
    "    sentencias = []\n",
    "    parrafos = []\n",
    "    for noticia in data:\n",
    "        if noticia['seccion'] == 'CIENCIA':\n",
    "            palabras.append(len(noticia['cuerpo'].split()))\n",
    "            sentencias.append(noticia['cuerpo'].count('.'))\n",
    "            parrafos.append(len(re.findall(r'[.].',noticia['cuerpo'])))\n",
    "\n",
    "    print(\"PROMEDIO DE PALABRAS \", stats.mean(palabras))\n",
    "    print(\"MÁXIMO DE PALABRAS \", max(palabras))\n",
    "    print(\"MÍNIMO DE PALABRAS \", min(palabras))\n",
    "    \n",
    "    print(\"PROMEDIO DE SENTENCIAS \", stats.mean(sentencias))\n",
    "    print(\"MÁXIMO DE SENTENCIAS \", max(sentencias))\n",
    "    print(\"MÍNIMO DE SENTENCIAS \", min(sentencias))\n",
    "    \n",
    "    print(\"PROMEDIO DE PÁRRAFOS \", stats.mean(parrafos))\n",
    "    print(\"MÁXIMO DE PÁRRAFOS \", max(parrafos))\n",
    "    print(\"MÍNIMO DE PÁRRAFOS \", min(parrafos))"
   ]
  }
 ],
 "metadata": {
  "kernelspec": {
   "display_name": "Python 3",
   "language": "python",
   "name": "python3"
  },
  "language_info": {
   "codemirror_mode": {
    "name": "ipython",
    "version": 3
   },
   "file_extension": ".py",
   "mimetype": "text/x-python",
   "name": "python",
   "nbconvert_exporter": "python",
   "pygments_lexer": "ipython3",
   "version": "3.8.2"
  }
 },
 "nbformat": 4,
 "nbformat_minor": 4
}
